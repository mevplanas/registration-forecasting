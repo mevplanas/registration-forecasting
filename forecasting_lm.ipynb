{
 "cells": [
  {
   "cell_type": "code",
   "execution_count": null,
   "metadata": {},
   "outputs": [],
   "source": [
    "import pandas as pd \n",
    "import numpy as np \n",
    "\n",
    "# Train test spliting \n",
    "from sklearn.model_selection import train_test_split\n",
    "\n",
    "# Linear models \n",
    "from sklearn.linear_model import LinearRegression \n",
    "\n",
    "# Multilabel binarizer \n",
    "from sklearn.preprocessing import MultiLabelBinarizer\n",
    "\n",
    "# Iteration tracking \n",
    "from tqdm import tqdm "
   ]
  },
  {
   "cell_type": "markdown",
   "metadata": {},
   "source": [
    "# Raw data reading "
   ]
  },
  {
   "cell_type": "code",
   "execution_count": null,
   "metadata": {},
   "outputs": [],
   "source": [
    "d = pd.read_excel('input/residents1.xlsx') "
   ]
  },
  {
   "cell_type": "code",
   "execution_count": null,
   "metadata": {},
   "outputs": [],
   "source": [
    "d.head()"
   ]
  },
  {
   "cell_type": "code",
   "execution_count": null,
   "metadata": {},
   "outputs": [],
   "source": [
    "type(d['USER_registrationDate'])"
   ]
  },
  {
   "cell_type": "code",
   "execution_count": null,
   "metadata": {},
   "outputs": [],
   "source": [
    "def convert_to_timestamp(x):\n",
    "   try: \n",
    "      return pd.to_datetime(x)\n",
    "   except: \n",
    "      return None \n",
    " \n",
    "\n",
    "d[\"USER_registrationDate\"] = [convert_to_timestamp(x) for x in d[\"USER_registrationDate\"]]\n",
    "d['USER_dateOfBirth'] = [convert_to_timestamp(x) for x in d[\"USER_dateOfBirth\"]]\n",
    "\n",
    "d.dropna(subset=['USER_dateOfBirth', 'USER_registrationDate'], inplace=True) \n",
    "d['ageAtRegistration'] = (d['USER_registrationDate'] - d['USER_dateOfBirth']).dt.days // 365\n",
    "\n",
    "# Binning the ages to bins of 10 years\n",
    "d['age_bin'] = pd.cut(d['ageAtRegistration'], bins=np.arange(-1, 120, 10))\n",
    "d['age_bin'] = d['age_bin'].astype(str)\n",
    "\n",
    "# Converting registrationDate to YYYY-MM format \n",
    "d['timestep'] = d['USER_registrationDate'].dt.to_period('M')\n",
    "\n",
    "# Converting the time steps to integers \n",
    "min_timestep = d['timestep'].min()\n",
    "max_timestep = d['timestep'].max() \n",
    "timestep_sequence = pd.period_range(min_timestep, max_timestep, freq='M') \n",
    "timestep_df = pd.DataFrame({'timestep': timestep_sequence, 'timestep_int': np.arange(len(timestep_sequence))}) \n",
    "d = pd.merge(d, timestep_df, on='timestep', how='left') "
   ]
  },
  {
   "cell_type": "markdown",
   "metadata": {},
   "source": [
    "# Creating modeling data "
   ]
  },
  {
   "cell_type": "code",
   "execution_count": null,
   "metadata": {},
   "outputs": [],
   "source": [
    "# Defining a list of dummy features \n",
    "dummy_features = ['age_bin', 'USER_gender', 'FID_1']\n",
    "\n",
    "# Dropping the missing rows in the dummy features\n",
    "d = d.dropna(subset=dummy_features)\n",
    "\n",
    "dd = d[['timestep_int'] + dummy_features].copy() \n",
    "dd = dd.groupby(['timestep_int'] + dummy_features).size().reset_index(name='count')\n",
    "\n",
    "# Creating the dummy data \n",
    "dd = pd.get_dummies(dd, columns=dummy_features)\n",
    "\n",
    "# Spliting to train and test frames \n",
    "train, test = train_test_split(dd, test_size=0.2, random_state=42) \n",
    "\n",
    "# Creating the x, y pairs\n",
    "X_train = train.drop('count', axis=1)\n",
    "y_train = train['count']\n",
    "\n",
    "X_test = test.drop('count', axis=1)\n",
    "y_test = test['count']\n",
    "\n",
    "print(train.shape, test.shape)"
   ]
  },
  {
   "cell_type": "markdown",
   "metadata": {},
   "source": [
    "## Linear regression model "
   ]
  },
  {
   "cell_type": "code",
   "execution_count": null,
   "metadata": {},
   "outputs": [],
   "source": [
    "model = LinearRegression()\n",
    "model.fit(X_train, y_train) \n",
    "\n",
    "# Saving the features \n",
    "features = X_train.columns\n",
    "\n",
    "# Predicting \n",
    "yhat = model.predict(X_train)\n",
    "\n",
    "# Calculating the metrics \n",
    "errors = y_train - yhat \n",
    "abs_errors = np.abs(errors)\n",
    "sq_errors = errors ** 2 \n",
    "print('Mean absolute error:', abs_errors.mean())\n",
    "print('Mean squared error:', sq_errors.mean()) \n",
    "\n",
    "# Extracting the coefficients \n",
    "coefs = pd.Series(model.coef_, index=features) \n",
    "coefs = coefs.sort_values(ascending=False) \n",
    "\n",
    "# Adding the intercept\n",
    "coefs['intercept'] = model.intercept_ "
   ]
  },
  {
   "cell_type": "code",
   "execution_count": null,
   "metadata": {},
   "outputs": [],
   "source": [
    "# Predicting on the test set \n",
    "yhat_test = model.predict(X_test) \n",
    "\n",
    "# Calculating the metrics\n",
    "errors_test = y_test - yhat_test\n",
    "abs_errors_test = np.abs(errors_test)\n",
    "sq_errors_test = errors_test ** 2\n",
    "print('Mean absolute error (test):', abs_errors_test.mean())\n",
    "print('Mean squared error (test):', sq_errors_test.mean())"
   ]
  },
  {
   "cell_type": "markdown",
   "metadata": {},
   "source": [
    "# Forecasting \n",
    "\n",
    "The forecasting strategy is to create dummy presentations for each gender, age group and municipality and to create an integer timestep into the future. "
   ]
  },
  {
   "cell_type": "code",
   "execution_count": null,
   "metadata": {},
   "outputs": [],
   "source": [
    "# Getting maximum date in the dataset \n",
    "max_date = d['registrationDate'].max() \n",
    "\n",
    "# Defining the number of maximum months to forecast ahead \n",
    "n_months = 24 \n",
    "\n",
    "# Creating the future time steps \n",
    "future_timesteps = pd.period_range(max_date, periods=n_months, freq='M') \n",
    "future_timesteps_df = pd.DataFrame({'timestep': future_timesteps, 'timestep_int': np.arange(len(timestep_sequence), len(timestep_sequence) + n_months)})\n",
    "\n",
    "# Extracting the unique timesteps \n",
    "unique_timesteps = future_timesteps_df['timestep_int'].unique()"
   ]
  },
  {
   "cell_type": "code",
   "execution_count": null,
   "metadata": {},
   "outputs": [],
   "source": [
    "# For each unique dummy feature, getting all the unique values \n",
    "dummy_features_values = {}\n",
    "for dummy_feature in dummy_features:\n",
    "    dummy_features_values[dummy_feature] = d[dummy_feature].unique().tolist()\n",
    "\n",
    "# Creating the meshed grid of all possible combinations of the dummy features\n",
    "from itertools import product\n",
    "meshed_grid = list(product(*dummy_features_values.values()))\n",
    "\n",
    "print('Number of possible combinations:', len(meshed_grid))"
   ]
  },
  {
   "cell_type": "code",
   "execution_count": null,
   "metadata": {},
   "outputs": [],
   "source": [
    "# Iterating over each timestep to the future and predicing the counts\n",
    "future_predictions = []\n",
    "for timestep_int in tqdm(unique_timesteps):\n",
    "    # Iterating over all the tuples \n",
    "    for obs in meshed_grid:\n",
    "        # Creating the prediction frame\n",
    "        prediction_df = pd.DataFrame({'timestep_int': [timestep_int], **dict(zip(dummy_features, obs))})\n",
    "\n",
    "        # Creating the dummy data\n",
    "        prediction_df = pd.get_dummies(prediction_df, columns=dummy_features)\n",
    "\n",
    "        # Ensuring the columns are the same as the training columns\n",
    "        missing_columns = set(features) - set(prediction_df.columns)\n",
    "        for column in missing_columns:\n",
    "            prediction_df[column] = 0\n",
    "\n",
    "        # Sorting the columns\n",
    "        prediction_df = prediction_df[features]\n",
    "\n",
    "        # Predicting\n",
    "        prediction = model.predict(prediction_df) \n",
    "\n",
    "        # Appending the prediction\n",
    "        future_predictions.append({'timestep_int': timestep_int, **dict(zip(dummy_features, obs)), 'count': prediction[0]})"
   ]
  },
  {
   "cell_type": "code",
   "execution_count": null,
   "metadata": {},
   "outputs": [],
   "source": [
    "# Creating a dataframe out of the predictions \n",
    "future_predictions_df = pd.DataFrame(future_predictions)\n",
    "\n",
    "# Giving the timesteps the correct format\n",
    "future_predictions_df = pd.merge(future_predictions_df, future_timesteps_df, on='timestep_int', how='left') "
   ]
  },
  {
   "cell_type": "code",
   "execution_count": null,
   "metadata": {},
   "outputs": [],
   "source": [
    "future_predictions_df.to_csv('result.csv')\n",
    "future_predictions_df.groupby('FID_1').plot(x='timestep', y='count')"
   ]
  }
 ],
 "metadata": {
  "kernelspec": {
   "display_name": "venv",
   "language": "python",
   "name": "python3"
  },
  "language_info": {
   "codemirror_mode": {
    "name": "ipython",
    "version": 3
   },
   "file_extension": ".py",
   "mimetype": "text/x-python",
   "name": "python",
   "nbconvert_exporter": "python",
   "pygments_lexer": "ipython3",
   "version": "3.9.13"
  }
 },
 "nbformat": 4,
 "nbformat_minor": 2
}
